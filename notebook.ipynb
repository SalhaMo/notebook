{
 "cells": [
  {
   "cell_type": "markdown",
   "id": "b775d690",
   "metadata": {},
   "source": [
    "# DataScienceEcosystem"
   ]
  },
  {
   "cell_type": "markdown",
   "id": "b55221d9",
   "metadata": {},
   "source": [
    "### In this notebook, Data Science Tools and Ecosystem are summarized.\n"
   ]
  },
  {
   "cell_type": "markdown",
   "id": "c6776460",
   "metadata": {},
   "source": [
    "#### Some of the popular languages that Data Scientists use are:\n",
    "\n",
    "- Python\n",
    "- R\n",
    "- Julia"
   ]
  },
  {
   "cell_type": "code",
   "execution_count": 5,
   "id": "f2352a5e",
   "metadata": {},
   "outputs": [
    {
     "data": {
      "text/plain": [
       "17"
      ]
     },
     "execution_count": 5,
     "metadata": {},
     "output_type": "execute_result"
    }
   ],
   "source": [
    "3*4+5"
   ]
  },
  {
   "cell_type": "markdown",
   "id": "ca32a0f0",
   "metadata": {},
   "source": [
    "### In this notebook, Data Science Tools and Ecosystem are summarized.\n"
   ]
  },
  {
   "cell_type": "markdown",
   "id": "ea9f9d85",
   "metadata": {},
   "source": [
    "### Below are a few examples of evaluating arithmetic expressions in Python.\n"
   ]
  },
  {
   "cell_type": "code",
   "execution_count": 7,
   "id": "5cc9b122",
   "metadata": {},
   "outputs": [
    {
     "data": {
      "text/plain": [
       "2.898550724637681"
      ]
     },
     "execution_count": 7,
     "metadata": {},
     "output_type": "execute_result"
    }
   ],
   "source": [
    "## This will convert 200 minutes to hours by diving by 60\n",
    "200/69"
   ]
  },
  {
   "cell_type": "markdown",
   "id": "01edd368",
   "metadata": {},
   "source": [
    "##### objectives\n",
    "- MOst common languages\n",
    "- Tools\n",
    "- Github and Gitlsb"
   ]
  },
  {
   "cell_type": "markdown",
   "id": "154141ad",
   "metadata": {},
   "source": [
    "## Auther\n",
    "Salha Mohamed"
   ]
  },
  {
   "cell_type": "code",
   "execution_count": null,
   "id": "63fe3482",
   "metadata": {},
   "outputs": [],
   "source": []
  }
 ],
 "metadata": {
  "kernelspec": {
   "display_name": "Python 3 (ipykernel)",
   "language": "python",
   "name": "python3"
  },
  "language_info": {
   "codemirror_mode": {
    "name": "ipython",
    "version": 3
   },
   "file_extension": ".py",
   "mimetype": "text/x-python",
   "name": "python",
   "nbconvert_exporter": "python",
   "pygments_lexer": "ipython3",
   "version": "3.11.5"
  }
 },
 "nbformat": 4,
 "nbformat_minor": 5
}
